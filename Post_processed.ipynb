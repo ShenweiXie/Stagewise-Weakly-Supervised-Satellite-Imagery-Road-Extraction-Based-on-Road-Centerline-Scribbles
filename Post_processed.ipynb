{
 "cells": [
  {
   "cell_type": "code",
   "execution_count": 1,
   "metadata": {},
   "outputs": [],
   "source": [
    "import numpy as np\n",
    "import os\n",
    "import cv2\n",
    "\n",
    "def post_process(mask,post_processed_mask_name):\n",
    "    area_thresh = 2000\n",
    "    iters = 10\n",
    "    op = cv2.MORPH_OPEN\n",
    "    cl = cv2.MORPH_CLOSE\n",
    "\n",
    "    new_contours1 = []\n",
    "\n",
    "    kernel = cv2.getStructuringElement(cv2.MORPH_ELLIPSE,(1, 1))\n",
    "    closed1 = cv2.morphologyEx(mask, cl, kernel, iterations=iters)\n",
    "    closed1 = closed1[:,:,0]\n",
    "    closed1 = closed1.copy()\n",
    "    image, contours1, hierarchy1 = cv2.findContours(closed1, cv2.RETR_TREE, cv2.CHAIN_APPROX_SIMPLE)\n",
    "    for contours in contours1:\n",
    "        area = cv2.contourArea(contours)\n",
    "        if area >= area_thresh:\n",
    "            # contourArea1.append(area)\n",
    "            new_contours1.append(contours)\n",
    "\n",
    "    post_mask1 = np.zeros_like(mask)\n",
    "    post_mask1 = cv2.drawContours(post_mask1,new_contours1,-1,(255,255,255),-1)\n",
    "\n",
    "    cv2.imwrite(post_processed_mask_name,post_mask1)\n",
    "\n",
    "for root, dirs, files in os.walk(\"C:/Users/xiesw/Desktop/Scribble_deepglobe/official_valid_predictions\"):\n",
    "    for file in files:\n",
    "        mask = cv2.imread(\"official_valid_predictions/\"+file)\n",
    "        post_process(mask=mask, post_processed_mask_name=\"official_valid_post_processed_predictions/\"+file)"
   ]
  }
 ],
 "metadata": {
  "kernelspec": {
   "display_name": "Python 3",
   "language": "python",
   "name": "python3"
  },
  "language_info": {
   "codemirror_mode": {
    "name": "ipython",
    "version": 3
   },
   "file_extension": ".py",
   "mimetype": "text/x-python",
   "name": "python",
   "nbconvert_exporter": "python",
   "pygments_lexer": "ipython3",
   "version": "3.7.6"
  }
 },
 "nbformat": 4,
 "nbformat_minor": 4
}
